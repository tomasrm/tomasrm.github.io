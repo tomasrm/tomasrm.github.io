{
 "cells": [
  {
   "cell_type": "markdown",
   "metadata": {
    "collapsed": true,
    "pycharm": {
     "name": "#%% md\n"
    }
   },
   "source": [
    "# Estimating HANK\n"
   ]
  },
  {
   "cell_type": "code",
   "execution_count": 76,
   "metadata": {
    "pycharm": {
     "name": "#%%\n"
    }
   },
   "outputs": [],
   "source": [
    "import numpy as np\n",
    "from scipy import optimize, signal\n",
    "import pandas as pd\n",
    "import numba\n",
    "import matplotlib.pyplot as plt\n",
    "\n",
    "import sequence_jacobian as sj"
   ]
  },
  {
   "cell_type": "markdown",
   "metadata": {},
   "source": [
    "Extra routines for simulation, computing priors, and historical shock decomposition of time series:"
   ]
  },
  {
   "cell_type": "code",
   "execution_count": 77,
   "metadata": {},
   "outputs": [],
   "source": [
    "\"\"\"Core utilities for simulation, second moments, and estimation\"\"\"\n",
    "\n",
    "def simulate(impulses, outputs, T_sim):\n",
    "    \"\"\"\n",
    "    impulses: list of ImpulseDicts, each an impulse to independent unit normal shock\n",
    "    outputs: list of outputs we want in simulation\n",
    "    T_sim: length of simulation\n",
    "\n",
    "    simulation: dict mapping each output to length-T_sim simulated series\n",
    "    \"\"\"\n",
    "\n",
    "    simulation = {}\n",
    "    epsilons = [np.random.randn(T_sim + impulses[0].T - 1) for _ in impulses]\n",
    "    for o in outputs:\n",
    "        simulation[o] = sum(simul_shock(imp[o], eps) \n",
    "                            for imp, eps in zip(impulses, epsilons))\n",
    "        \n",
    "    return simulation\n",
    "\n",
    "@numba.njit(parallel=True)\n",
    "def simul_shock(dX, epsilons):\n",
    "    \"\"\"Take in any impulse response dX to epsilon shock, plus path of epsilons, and simulate\"\"\"    \n",
    "    # if I have T_eps epsilons, can simulate length T_eps - T + 1 dXtildes\n",
    "    # by indexing as eps_(-T-1), ... , eps_(T_eps-T+1) and implementing formula\n",
    "    T = len(dX)\n",
    "    T_eps = len(epsilons)\n",
    "    dXtilde = np.empty(T_eps - T + 1) \n",
    "    \n",
    "    dX_flipped = dX[::-1].copy() # flip because dX_s multiplies eps_(t-s)\n",
    "    for t in numba.prange(T_eps - T + 1):\n",
    "        dXtilde[t] = np.vdot(dX_flipped, epsilons[t:t + T]) # sum as single dot product\n",
    "\n",
    "    return dXtilde\n",
    "\n",
    "\n",
    "\"\"\"Log-likelihood of priors\"\"\"\n",
    "\n",
    "def log_priors(thetas, priors_list):\n",
    "    \"\"\"Given a vector 'thetas', where entry i is drawn from the prior\n",
    "    distribution specified in entry i of priors_list, calculate sum of\n",
    "    log prior likelihoods of each theta. Distributions over theta should be specified \n",
    "    in the same way that arguments are given to the 'log_prior' function: first the\n",
    "    name of the family, and then two parameters\"\"\"\n",
    "    return sum(log_prior(theta, *prior) for theta, prior in zip(thetas, priors_list))\n",
    "\n",
    "\n",
    "def log_prior(theta, dist, arg1, arg2):\n",
    "    \"\"\"Calculate log prior probability of 'theta', if prior is from family\n",
    "    'dist' with parameters 'arg1' and 'arg2' (depends on prior)\"\"\"\n",
    "    if dist == 'Normal':\n",
    "        mu = arg1\n",
    "        sigma = arg2\n",
    "        return - 0.5 * ((theta - mu)/sigma)**2\n",
    "    elif dist == 'Uniform':\n",
    "        lb = arg1\n",
    "        ub = arg2\n",
    "        return - np.log(ub-lb)\n",
    "    elif dist == 'Invgamma':\n",
    "        s = arg1\n",
    "        v = arg2\n",
    "        return (-v-1) * np.log(theta) - v*s**2/(2*theta**2)\n",
    "    elif dist == 'Gamma':\n",
    "        theta = arg2**2 / arg1\n",
    "        k = arg1 / theta\n",
    "        return (k-1) * np.log(theta) - theta/theta\n",
    "    elif dist == 'Beta':\n",
    "        alpha = (arg1*(1 - arg1) - arg2**2) / (arg2**2 / arg1)\n",
    "        beta = alpha / arg1 - alpha\n",
    "        return (alpha-1) * np.log(theta) + (beta-1) * np.log(1-theta)\n",
    "    else:\n",
    "        raise ValueError('Distribution provided is not implemented in log_prior!')\n",
    "\n",
    "\n"
   ]
  },
  {
   "cell_type": "markdown",
   "metadata": {},
   "source": [
    "Finally, we'll import a standard HA Model with real bonds, a gradual tax adjustment rule in response to fiscal shocks, and a Taylor rule for monetary policy. For details, you can look at the (brief) specification of the model in `estimation/model.py`."
   ]
  },
  {
   "cell_type": "code",
   "execution_count": 78,
   "metadata": {},
   "outputs": [],
   "source": [
    "\"\"\"\n",
    "This HA model combines SIM, a Taylor rule for monetary policy\n",
    "with a gradual tax adjustment rule and real bonds on the fiscal side\n",
    "\"\"\"\n",
    "\n",
    "import numpy as np\n",
    "import sequence_jacobian as sj\n",
    "\n",
    "\"\"\"Simple household block\"\"\"\n",
    "\n",
    "hh = sj.hetblocks.hh_sim.hh\n",
    "make_grids = sj.hetblocks.hh_sim.make_grids\n",
    "\n",
    "def income(Y, T, e_grid):\n",
    "    # post-tax labor income\n",
    "    y = (Y-T) * e_grid\n",
    "    return y\n",
    "\n",
    "household_simple = hh.add_hetinputs([make_grids, income])\n",
    "\n",
    "\n",
    "\"\"\"Inflation, monetary, and fiscal\"\"\"\n",
    "\n",
    "@sj.simple\n",
    "def nkpc(pi, Y, X, C, kappa_w, vphi, frisch, markup_ss, eis, beta):\n",
    "    piw = pi + X - X(-1)\n",
    "    # note: for simplicity, we ignore distortionary effect of taxation here\n",
    "    piwres = kappa_w * (vphi*(Y/X)**(1/frisch) - 1/markup_ss * X * C**-(1/eis)) + beta * piw(1) - piw\n",
    "    return piwres, piw\n",
    "\n",
    "\n",
    "@sj.simple\n",
    "def monetary_taylor(pi, ishock, rss, phi_pi):\n",
    "    i = rss + phi_pi * pi + ishock\n",
    "    r_ante = i - pi(1)\n",
    "    return i, r_ante\n",
    "\n",
    "\n",
    "@sj.simple\n",
    "def ex_post_rate(r_ante):\n",
    "    r = r_ante(-1)\n",
    "    return r\n",
    "\n",
    "\n",
    "@sj.solved(unknowns={'B': (-1., 1.)}, targets=['Bres'], solver=\"brentq\")\n",
    "def fiscal_deficit_Trule(r, G, B, Tss, phi_T, Y):\n",
    "    T = Tss + phi_T * (B(-1) - B.ss)\n",
    "    Bres = (1 + r) * B(-1) + G - T - B\n",
    "    return T, Bres\n",
    "\n",
    "\n",
    "\"\"\"Overall model\"\"\"\n",
    "\n",
    "@sj.simple\n",
    "def mkt_clearing(A, B, Y, C, G):\n",
    "    asset_mkt = A - B\n",
    "    goods_mkt = C + G - Y\n",
    "    return asset_mkt, goods_mkt\n",
    "\n",
    "\n",
    "ha = sj.create_model([household_simple, nkpc, monetary_taylor, ex_post_rate, fiscal_deficit_Trule, mkt_clearing],\n",
    "                     name=\"Simple HA Model\")"
   ]
  },
  {
   "cell_type": "markdown",
   "metadata": {
    "pycharm": {
     "name": "#%% md\n"
    }
   },
   "source": [
    "## Calibration and model setup"
   ]
  },
  {
   "cell_type": "code",
   "execution_count": 79,
   "metadata": {
    "pycharm": {
     "name": "#%%\n"
    }
   },
   "outputs": [],
   "source": [
    "calibration = {'eis': 0.5,  # elasticity of intertemporal substitution\n",
    "               'frisch': 0.5,  # labor supply elasticity\n",
    "               'markup_ss': 1.015,  # steady state markup\n",
    "               'phi_pi': 1.5,  # Taylor coefficient on inflation\n",
    "               'kappa_w': 0.2,  # slope of the wage Phillips curve\n",
    "               'phi_T': 0.1,  # adjustment coefficient in tax rule\n",
    "               'rho_e': 0.92,  # persistence of idiosyncratic productivity shocks\n",
    "               'sd_e': 0.92,  # standard deviation fo idiosyncratic productivity shocks\n",
    "               'n_e': 11,  # number of productivity grid points\n",
    "               'min_a': -1,  # minimum asset level on the grid\n",
    "               'max_a': 1000,  # maximum asset level on the grid\n",
    "               'n_a': 500,  # number of asset grid points\n",
    "               'X': 1.,  # TFP\n",
    "               'G': 0.,  # exogenous government spending\n",
    "               'B': 0.,  # government debt level\n",
    "               'Tss': 0.,  # steady state government taxes\n",
    "               'ishock': 0.}  # monetary policy shock\n",
    "\n",
    "# Steady state values for endogenous variables\n",
    "calibration['r'] = calibration['rss'] = 0.01\n",
    "calibration['pi'] = 0.\n",
    "calibration['Y'] = 1."
   ]
  },
  {
   "cell_type": "code",
   "execution_count": 80,
   "metadata": {
    "pycharm": {
     "name": "#%%\n"
    }
   },
   "outputs": [],
   "source": [
    "unknowns_ss = {\"beta\": 0.8, \"vphi\": 0.8}\n",
    "targets_ss = [\"asset_mkt\", \"piwres\"]\n",
    "ss = ha.solve_steady_state(calibration, unknowns_ss, targets_ss)"
   ]
  },
  {
   "cell_type": "code",
   "execution_count": 81,
   "metadata": {
    "scrolled": true
   },
   "outputs": [
    {
     "data": {
      "text/plain": [
       "0.8233548425126794"
      ]
     },
     "execution_count": 81,
     "metadata": {},
     "output_type": "execute_result"
    }
   ],
   "source": [
    "ss['beta']"
   ]
  },
  {
   "cell_type": "markdown",
   "metadata": {},
   "source": [
    "We'll assume that the Taylor rule intercept `ishock`, the TFP parameter `X`, and government spending `G` all follow AR(1) processes, and we'll be interested in what happens to three outcome variables: inflation `pi`, output `Y`, and the nominal interest rate `i`.\n",
    "\n",
    "First, let's solve for the GE Jacobian of these outcomes with respect to the inputs that are shocked. This will prove useful later as well."
   ]
  },
  {
   "cell_type": "code",
   "execution_count": 82,
   "metadata": {},
   "outputs": [],
   "source": [
    "unknowns = ['Y', 'pi']\n",
    "targets = ['asset_mkt', 'piwres']\n",
    "inputs = ['ishock', 'X', 'G']\n",
    "outputs = ['pi', 'Y', 'i']\n",
    "T = 500\n",
    "\n",
    "G = ha.solve_jacobian(ss, unknowns, targets, inputs, outputs, T=T)"
   ]
  },
  {
   "cell_type": "markdown",
   "metadata": {
    "pycharm": {
     "name": "#%% md\n"
    }
   },
   "source": [
    "Now we'll specify the persistences and standard deviation of the shocks, calculate the impulse response of each shocked variable to its one-standard-deviation innovation, and then compose each with `G` to get the impulse responses of the outcome variables, for which we'll maintain a list."
   ]
  },
  {
   "cell_type": "code",
   "execution_count": 83,
   "metadata": {},
   "outputs": [],
   "source": [
    "sigmas = {'ishock': 1, 'X': 0.5, 'G': 0.2}\n",
    "rhos = {'ishock': 0.7, 'X': 0.8, 'G': 0.7}\n",
    "impulses = {}\n",
    "for i in inputs:\n",
    "    own_shock = {i: sigmas[i] * rhos[i]**np.arange(T)} \n",
    "    impulses[i] = G @ own_shock\n"
   ]
  },
  {
   "cell_type": "code",
   "execution_count": 84,
   "metadata": {},
   "outputs": [
    {
     "data": {
      "image/png": "[encoded data removed]",
      "text/plain": [
       "<Figure size 500x500 with 1 Axes>"
      ]
     },
     "metadata": {},
     "output_type": "display_data"
    }
   ],
   "source": [
    "\n",
    "fig, axs = plt.subplots(1,1,figsize=(5, 5))\n",
    "\n",
    "axs.plot(impulses['G']['Y'][0:50]) # IRF shock of G on Y\n",
    "axs.set_title(r'$Y$ on G shocks')\n",
    "axs.set_ylabel(r'deviation from ss')\n",
    "axs.set_xlabel(r'T')\n",
    "plt.show()"
   ]
  },
  {
   "cell_type": "markdown",
   "metadata": {},
   "source": [
    "Now if we feed the list of impulse responses to our independent shocks to our `simulate` function, it will give us simulations of whatever length we want."
   ]
  },
  {
   "cell_type": "markdown",
   "metadata": {},
   "source": [
    "Simulation a la Boppart, Krussel, Mitman:"
   ]
  },
  {
   "cell_type": "code",
   "execution_count": 85,
   "metadata": {
    "pycharm": {
     "name": "#%%\n"
    },
    "scrolled": true
   },
   "outputs": [
    {
     "data": {
      "image/png": "[encoded data removed]",
      "text/plain": [
       "<Figure size 1200x400 with 3 Axes>"
      ]
     },
     "metadata": {},
     "output_type": "display_data"
    }
   ],
   "source": [
    "# Simulate series of pi, Y and i\n",
    "T_sim = 156  # 39 years, as in the original SW (2007) sample N\n",
    "# NOTE THIS IS SIMULATED DATA USING BKM METHOD. WE WILL USE THIS DATA LATER. \n",
    "data_simul = simulate(list(impulses.values()), outputs, T_sim)\n",
    "\n",
    "#\n",
    "def plot_timeseries(data_dict, dims, xlabel='Quarters', **kwargs):\n",
    "    plt.figure(**kwargs)\n",
    "    for i, (name, data) in enumerate(data_dict.items()):\n",
    "        plt.subplot(*dims, i+1)\n",
    "        plt.plot(data)\n",
    "        plt.title(name)\n",
    "        plt.xlabel(xlabel)\n",
    "        plt.axhline(y=0, color='#808080', linestyle=':')\n",
    "    plt.tight_layout()\n",
    "    \n",
    "plot_timeseries(data_simul, (1,3), figsize=(12, 4))\n",
    "\n"
   ]
  },
  {
   "cell_type": "markdown",
   "metadata": {
    "pycharm": {
     "name": "#%% md\n"
    }
   },
   "source": [
    "## Evaluating the log-likelihood\n",
    "From here, we will explain step-by-step how to compute the log-likelihood, which can then be added to the log of the priors we specified to obtain the log-posterior, over which we will optimize to find the modal parameters.\n",
    "\n",
    "First, we'll solve for the log-likelihood at the $\\sigma$s and $\\rho$s we've chosen so far."
   ]
  },
  {
   "cell_type": "markdown",
   "metadata": {
    "pycharm": {
     "name": "#%% md\n"
    }
   },
   "source": [
    "### Step 1: compute the MA representation of outputs with respect to shocks\n",
    "This step constructs the $MA(\\infty)$ representation of the endogenous sequence $dX_t$ with respect to the exogenous shock $dZ_t$\n",
    "\n",
    "In particular, if the $MA(\\infty)$ representation of the exogenous shock is given by\n",
    "\n",
    "$$\n",
    "dZ_t = \\sum_{s = 0}^\\infty M^Z_s \\epsilon_{t-s}\n",
    "$$\n",
    "\n",
    "Then under certainty equivalence, $dX_t$ follows\n",
    "\n",
    "$$\n",
    "dX_t = \\sum_{s = 0}^\\infty M^X_s \\epsilon_{t - s}\n",
    "$$\n",
    "\n",
    "where the GE Jacobian, $\\mathcal{G}$ gives us the mapping\n",
    "$$\n",
    "M^X = \\mathcal{G}^{X, Z} M^Z\n",
    "$$\n",
    "\n",
    "\n",
    "We've actually already done this when we calculated `impulses`, which can also be viewed as the $MA(\\infty)$ representation of the outcome variables of interest with respect to the shocks. So for this step, we don't need to do any more for now!"
   ]
  },
  {
   "cell_type": "markdown",
   "metadata": {
    "pycharm": {
     "name": "#%% md\n"
    }
   },
   "source": [
    "### Step 2: compute the covariance matrix of the model\n",
    "Given $M^X$, we can then compute the covariance matrix of the endogenous variables via the formula (letting $Y$ denote the \"observable\" variables, as before)\n",
    "\n",
    "$$\n",
    "\\text{Cov}(dX_t, dY_{t^\\prime}) = \\sum_{s = 0}^\\infty M^X_s (M^Y_{s + t^\\prime - t})'\n",
    "$$\n",
    "\n",
    "This process is automated by the SSJ function `sj.estimation.all_covariances`, which takes in the set of all $M$ s as a $T\\times n_O \\times n_Z$ array, where the first dimension is time, the second dimension is each output variable, and the third dimension is each shock. We can manually assemble it in this form:"
   ]
  },
  {
   "cell_type": "code",
   "execution_count": 86,
   "metadata": {},
   "outputs": [],
   "source": [
    "M = np.empty((T, 3, 3))\n",
    "for no, o in enumerate(outputs):  # outputs are endogenous\n",
    "    for ns, s in enumerate(inputs): # inputs are shocks\n",
    "        M[:, no, ns] = impulses[s][o] "
   ]
  },
  {
   "cell_type": "code",
   "execution_count": 87,
   "metadata": {},
   "outputs": [],
   "source": [
    "#M[:, 0, 0]"
   ]
  },
  {
   "cell_type": "markdown",
   "metadata": {},
   "source": [
    "and then call it to get `Sigma`, which is a $T\\times n_O \\times n_O$ array, where in general `Sigma[s,o1,o2]` gives the covariance between output `o1` at time $t$ and output `o2` at time $t'=t+s$.\n",
    "\n",
    "Note that this function also takes a second argument `sigmas` of the standard deviations of each shock, but we have already scaled our impulses by the standard deviation, so we should just use a vector of ones here:"
   ]
  },
  {
   "cell_type": "code",
   "execution_count": 88,
   "metadata": {
    "pycharm": {
     "name": "#%%\n"
    }
   },
   "outputs": [],
   "source": [
    "Sigma = sj.estimation.all_covariances(M, np.ones(3)) # The second argument rescale by the standard deviation"
   ]
  },
  {
   "cell_type": "code",
   "execution_count": 89,
   "metadata": {},
   "outputs": [
    {
     "name": "stdout",
     "output_type": "stream",
     "text": [
      "Help on function all_covariances in module sequence_jacobian.estimation:\n",
      "\n",
      "all_covariances(M, sigmas)\n",
      "    Use Fast Fourier Transform to compute covariance function between O vars up to T-1 lags.\n",
      "    \n",
      "    See equation (108) in appendix B.5 of paper for details.\n",
      "    \n",
      "    Parameters\n",
      "    ----------\n",
      "    M      : array (T*O*Z), stacked impulse responses of nO variables to nZ shocks (MA(T-1) representation)\n",
      "    sigmas : array (Z), standard deviations of shocks\n",
      "    \n",
      "    Returns\n",
      "    ----------\n",
      "    Sigma : array (T*O*O), covariance function between O variables for 0, ..., T-1 lags\n",
      "\n"
     ]
    }
   ],
   "source": [
    "help(sj.estimation.all_covariances)"
   ]
  },
  {
   "cell_type": "markdown",
   "metadata": {},
   "source": [
    "The order of the Sigma function is given by the output order."
   ]
  },
  {
   "cell_type": "code",
   "execution_count": 90,
   "metadata": {},
   "outputs": [
    {
     "name": "stdout",
     "output_type": "stream",
     "text": [
      "['pi', 'Y', 'i']\n",
      "This is the Covariance of Y (t=0) with Y (t=0) (i.e., the variance) 1.0009947865529258\n",
      "This is the Covariance of Y (t=0) with i (t=0) 0.030394286754977465\n",
      "This is the Covariance of Y (t=0) with i (t=1) 0.27744063937986546\n"
     ]
    }
   ],
   "source": [
    "print(outputs)\n",
    "print('This is the Covariance of Y (t=0) with Y (t=0) (i.e., the variance)', Sigma[0,1,1])\n",
    "print('This is the Covariance of Y (t=0) with i (t=0)', Sigma[0,1,2])\n",
    "print('This is the Covariance of Y (t=0) with i (t=1)', Sigma[1,1,2])"
   ]
  },
  {
   "cell_type": "markdown",
   "metadata": {
    "pycharm": {
     "name": "#%% md\n"
    }
   },
   "source": [
    "### Step 3: compute log-likelihood\n",
    "Denote the stacked covariance matrix as $\\mathbf{V}(\\theta)$ to clarify that it is a function of the parameter vector, $\\theta$.\n",
    "\n",
    "The log-likelihood can then be computed, assuming Gaussian innovations to the shock processes, by stacking the data into the vector $\\mathbf{Y}$ and calculating (ignoring constant terms that won't change with the data or parameters and only depend on dimension):\n",
    "\n",
    "$$\n",
    "\\mathcal{L}(\\mathbf{Y}; \\theta) = -\\frac{1}{2} \\log \\text{det} \\mathbf{V}(\\theta) - \\frac{1}{2} \\mathbf{Y}^\\prime \\mathbf{V}(\\theta)^{-1} \\mathbf{Y}\n",
    "$$\n",
    "\n",
    "This is implemented by the function `log_likelihood`, which takes as its second argument the `Sigma` matrix calculated above,  and as its first argument the `Y` array with the data for which we want to compute the log-likelihood. We'll manually assemble `Y`, where the first dimension is time and the second is the output:"
   ]
  },
  {
   "cell_type": "code",
   "execution_count": 91,
   "metadata": {},
   "outputs": [],
   "source": [
    "# THIS IS THE SIMULATED DATA\n",
    "Y = np.empty((T_sim, 3))\n",
    "for no, o in enumerate(outputs):\n",
    "    Y[:, no] = data_simul[o]\n",
    "    \n"
   ]
  },
  {
   "cell_type": "markdown",
   "metadata": {},
   "source": [
    "Then we'll apply the function. (It also takes in a third optional argument for measurement error, which we won't use.)"
   ]
  },
  {
   "cell_type": "code",
   "execution_count": 92,
   "metadata": {
    "pycharm": {
     "name": "#%%\n"
    }
   },
   "outputs": [],
   "source": [
    "loglik = sj.estimation.log_likelihood(Y, Sigma)\n",
    "\n"
   ]
  },
  {
   "cell_type": "code",
   "execution_count": null,
   "metadata": {},
   "outputs": [],
   "source": []
  },
  {
   "cell_type": "markdown",
   "metadata": {
    "pycharm": {
     "name": "#%% md\n"
    }
   },
   "source": [
    "### Step 4: adding the log-prior to the log-likelihood\n",
    "\n",
    "This follows directly from Bayes' formula\n",
    "\n",
    "$$\n",
    "\\log \\pi(\\theta; \\mathbf{Y}) \\propto \\mathcal{L}(\\mathbf{Y}; \\theta) + \\log \\pi(\\theta)\n",
    "$$\n",
    "\n",
    "To do this, we'll need to collapse our parameters (standard deviations and persistences) into a vector `theta`:"
   ]
  },
  {
   "cell_type": "code",
   "execution_count": 93,
   "metadata": {},
   "outputs": [],
   "source": [
    "theta = np.array([sigmas['ishock'], rhos['ishock'], sigmas['X'], rhos['X'], sigmas['G'], rhos['G']]) # "
   ]
  },
  {
   "cell_type": "markdown",
   "metadata": {},
   "source": [
    "and then specify priors over these parameters (where each parameter has a prior given by a 3-tuple, with the family of distribution and two parameters describing that distribution for each—in this case just a uniform over $[0,2]$ for each):"
   ]
  },
  {
   "cell_type": "code",
   "execution_count": 94,
   "metadata": {
    "pycharm": {
     "name": "#%%\n"
    }
   },
   "outputs": [],
   "source": [
    "# Specifying priors over the exogenous shock series parameters\n",
    "priors = [('Uniform', 0, 2), ('Uniform', 0, 2), ('Uniform', 0, 2), ('Uniform', 0, 2), ('Uniform', 0, 2), ('Uniform', 0, 2)]"
   ]
  },
  {
   "cell_type": "markdown",
   "metadata": {},
   "source": [
    "and then use "
   ]
  },
  {
   "cell_type": "code",
   "execution_count": 95,
   "metadata": {
    "pycharm": {
     "name": "#%%\n"
    }
   },
   "outputs": [],
   "source": [
    "log_posterior = loglik + log_priors(theta, priors)"
   ]
  },
  {
   "cell_type": "markdown",
   "metadata": {},
   "source": [
    "## Maximizing the posterior likelihood over these parameters\n",
    "Now that we know how to calculate the log posterior likelihood given the data and shock process parameters, let's see if we can maximize this likelihood given the data - i.e. find the parameters at the posterior mode.\n",
    "\n",
    "To do so, we need to consolidate the workflow above into a function that takes `theta` as an input and calculates the log posterior likelihood."
   ]
  },
  {
   "cell_type": "code",
   "execution_count": 96,
   "metadata": {},
   "outputs": [],
   "source": [
    "def log_likelihood(theta):\n",
    "    # turn theta into dicts mapping input shocks to sigmas and rhos\n",
    "    sigma_array, rho_array = theta.reshape(3, 2).T\n",
    "    sigmas, rhos = dict(zip(inputs, sigma_array)), dict(zip(inputs, rho_array))\n",
    "    \n",
    "    # step 1: construct impulses to shocks, aka MA representation\n",
    "    impulses = {}\n",
    "    for i in inputs:\n",
    "        own_shock = {i: sigmas[i] * rhos[i]**np.arange(T)}\n",
    "        impulses[i] = G @ own_shock\n",
    "        \n",
    "    # step 2: get covariances by building M array and calling .all_covariances()\n",
    "    M = np.empty((T, 3, 3))\n",
    "    for no, o in enumerate(outputs):\n",
    "        for ns, s in enumerate(inputs):\n",
    "            M[:, no, ns] = impulses[s][o]\n",
    "    \n",
    "    Sigma = sj.estimation.all_covariances(M, np.ones(3))\n",
    "    \n",
    "    # step 3: compute log-likelihood\n",
    "    loglik = sj.estimation.log_likelihood(Y, Sigma)\n",
    "    \n",
    "    # step 4: add log prior to get log posterior\n",
    "    return loglik + log_priors(theta, priors)"
   ]
  },
  {
   "cell_type": "markdown",
   "metadata": {},
   "source": [
    "Let's verify that this gives the same answer that we just found on the same `theta`:"
   ]
  },
  {
   "cell_type": "code",
   "execution_count": 97,
   "metadata": {
    "scrolled": true
   },
   "outputs": [
    {
     "data": {
      "text/plain": [
       "True"
      ]
     },
     "execution_count": 97,
     "metadata": {},
     "output_type": "execute_result"
    }
   ],
   "source": [
    "log_likelihood(theta) == log_posterior"
   ]
  },
  {
   "cell_type": "markdown",
   "metadata": {},
   "source": [
    "Now let's use a numerical optimization routine to find the `theta` that maximizes the log posterior. To make sure the optimizer stays in a reasonable subspace, we'll first need to put some bounds on each dimension of the `theta`:"
   ]
  },
  {
   "cell_type": "code",
   "execution_count": 98,
   "metadata": {},
   "outputs": [],
   "source": [
    "bounds = [(0.05, 1.5), (0.01, 0.99), (0.05, 1.5), (0.01, 0.99), (0.05, 1.5), (0.01, 0.99)]"
   ]
  },
  {
   "cell_type": "markdown",
   "metadata": {},
   "source": [
    "Then call `optimize.minimize`, asking to minimize the negative of the log likelihood, putting `0.8*theta` rather than the true parameter `theta` as our initial guess to make the optimizer's life a little more difficult. Turns out that it takes a bit more than a second:"
   ]
  },
  {
   "cell_type": "code",
   "execution_count": 99,
   "metadata": {
    "scrolled": false
   },
   "outputs": [
    {
     "name": "stdout",
     "output_type": "stream",
     "text": [
      "CPU times: user 13min 37s, sys: 53.4 s, total: 14min 31s\n",
      "Wall time: 1min 34s\n"
     ]
    }
   ],
   "source": [
    "%time result = optimize.minimize(lambda theta: -log_likelihood(theta), 0.8*theta, bounds=bounds)"
   ]
  },
  {
   "cell_type": "code",
   "execution_count": 100,
   "metadata": {},
   "outputs": [
    {
     "data": {
      "text/plain": [
       "array([0.98515254, 0.70587897, 0.53952631, 0.80743215, 0.19349643,\n",
       "       0.66741568])"
      ]
     },
     "execution_count": 100,
     "metadata": {},
     "output_type": "execute_result"
    }
   ],
   "source": [
    "theta_estimate = result.x\n",
    "theta_estimate"
   ]
  },
  {
   "cell_type": "markdown",
   "metadata": {},
   "source": [
    "Maximum difference between estimated and true parameters not too large, so this seemed to work well!"
   ]
  },
  {
   "cell_type": "code",
   "execution_count": 101,
   "metadata": {},
   "outputs": [
    {
     "data": {
      "text/plain": [
       "0.03952631358255243"
      ]
     },
     "execution_count": 101,
     "metadata": {},
     "output_type": "execute_result"
    }
   ],
   "source": [
    "np.max(np.abs(theta_estimate - theta))"
   ]
  },
  {
   "cell_type": "markdown",
   "metadata": {},
   "source": [
    "We could further check to make sure that the shock process parameters are well-identified by repeating this exercise on multiple simulated time series, making sure that the distribution of estimates we obtain has a peak near the true `theta`."
   ]
  }
 ],
 "metadata": {
  "kernelspec": {
   "display_name": "Python 3 (ipykernel)",
   "language": "python",
   "name": "python3"
  },
  "language_info": {
   "codemirror_mode": {
    "name": "ipython",
    "version": 3
   },
   "file_extension": ".py",
   "mimetype": "text/x-python",
   "name": "python",
   "nbconvert_exporter": "python",
   "pygments_lexer": "ipython3",
   "version": "3.11.3"
  }
 },
 "nbformat": 4,
 "nbformat_minor": 1
}
